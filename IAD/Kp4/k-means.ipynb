{
 "cells": [
  {
   "cell_type": "code",
   "execution_count": null,
   "metadata": {},
   "outputs": [],
   "source": [
    "def k_means(dt, col, k = 2, name = 'k-means', metric = metric_Euclid):\n",
    "    data = dt[col][:]\n",
    "    clusters = [[data.iloc[rn.randint(0,len(data[:]))]] for i in range(k)] # Задання початкових центрів\n",
    "    check_clusters = [[] for i in range(k-1)] # Для заповнення даними з минулої ітерації і перевірки\n",
    "    while (True):\n",
    "        #Заповнюємо кластери\n",
    "        for i in range(len(data[:])):\n",
    "            # Дистанції від точки до кожного кластера\n",
    "            list_dist = [metric(clusters[j][0],data.iloc[i]) for j in range(k)] \n",
    "            clusters[list_dist.index(min(list_dist))].append(i)\n",
    "        #Перевірка на наявність змін у кластері\n",
    "        x = [ 1 if(check_clusters[j] == clusters[j][1:]) else 0 for j in range(k-1)]\n",
    "        if(sum(x) == k-1):\n",
    "            break\n",
    "        check_clusters = [[clusters[i][j] for j in range(1,len(clusters[i][:]))] for i in range(k-1)]\n",
    "        #Перерахунок центрів на середні арифметичні по координатам\n",
    "        x = [[np.mean([data.iloc[clusters[z][j],i] for j in range(1,len(clusters[z]))]) \n",
    "              for i in range(len(clusters[0][0][:])) ] for z in range(k)] \n",
    "        #Додавання нових центрів кластерів\n",
    "        clusters = [[clusters[i][0]] for i in range(k)]\n",
    "        for j in range(k):\n",
    "            clusters[j][0][:] = x[j]\n",
    "    # Додавання параметру, для кожної точки, який визначає належність до кластеру\n",
    "    clust = []\n",
    "    for i in range(len(dt)):\n",
    "        for j in range(k):\n",
    "            for x in range(1,len(clusters[j])):\n",
    "                if(i == clusters[j][x]):\n",
    "                    clust.append(j)\n",
    "                    break\n",
    "    dt[name] = clust\n",
    "    # Утворення кластерів зі координатами точок(до цього в кластерах були індекси)\n",
    "    return [pd.DataFrame([clusters[j][0]] + [data.iloc[clusters[j][i]] \n",
    "                                      for i in range(1,len(clusters[j]))])for j in range(k)]"
   ]
  }
 ],
 "metadata": {
  "kernelspec": {
   "display_name": "Python 3",
   "language": "python",
   "name": "python3"
  },
  "language_info": {
   "codemirror_mode": {
    "name": "ipython",
    "version": 3
   },
   "file_extension": ".py",
   "mimetype": "text/x-python",
   "name": "python",
   "nbconvert_exporter": "python",
   "pygments_lexer": "ipython3",
   "version": "3.7.4"
  }
 },
 "nbformat": 4,
 "nbformat_minor": 2
}
