{
 "cells": [
  {
   "cell_type": "markdown",
   "metadata": {},
   "source": [
    " <h1 align=\"center\" style=\"color:#4ca8ed\">\n",
    "    Обробка та аналіз БМД.<br>\n",
    "    Группа: БС-81<br>\n",
    "    Мумінов А.O.<br>\n",
    "    Практикум Номер 4\n",
    "</h1>"
   ]
  },
  {
   "cell_type": "code",
   "execution_count": 1,
   "metadata": {},
   "outputs": [],
   "source": [
    "import seaborn as sns\n",
    "import numpy as np\n",
    "import matplotlib.backends.backend_pdf\n",
    "import matplotlib.pyplot as plt\n",
    "import pandas as pd\n",
    "%matplotlib inline\n",
    "sns.set_style(\"whitegrid\")"
   ]
  },
  {
   "cell_type": "markdown",
   "metadata": {},
   "source": [
    "<p style=\"color:#4ca8ed\">\n",
    "    <span style=\"margin-left:50px;font-size:150%\">\n",
    "        1.Сгенеруйте набір даних, що містить не менше 6 змінних. Частину змінних згенеруйте за нормальний розподілом, частину - за будь-яким іншим розподілом. Кількість спостережень - 20.\n",
    "    </span>\n",
    "</p>"
   ]
  },
  {
   "cell_type": "code",
   "execution_count": 2,
   "metadata": {},
   "outputs": [
    {
     "name": "stdout",
     "output_type": "stream",
     "text": [
      "РЯДОК - [-2.3240407089178032, -1.6297385107302729, -1.453773372158761, -0.9450935183520748, -0.7769464989114837, -0.5924212222188747, -0.45652564677078894, -0.31296190398266144, -0.31200961969542773, -0.010299928248368858, 0.07033716614754992, 0.09474972437553138, 0.396741864158167, 0.44641874181591373, 0.5737325215969898, 0.7202231062248204, 0.9641555127240493, 0.9874101214688278, 1.0783976100491566, 1.4528983728129325]\n",
      "\n",
      "РЯДОК - [0.03610961083716736, 0.045856146108280565, 0.14158140311642936, 0.14953234026913054, 0.18521194465312132, 0.208762876201513, 0.27436770647658165, 0.33168781688270876, 0.34454927194419815, 0.3975560207413812, 0.43070910747015567, 0.5043182988977042, 0.6424988254622281, 0.6434402205354816, 1.3321344639609718, 1.4269865476799877, 2.1031903210181446, 2.1706256654567055, 2.3305518367565474, 5.3001177817373595]\n",
      "\n",
      "РЯДОК - [-7.834249312932475, -5.733117514322435, -3.916008989935068, -3.6405246015734045, -3.6130436272030035, -3.085110984014972, -2.689794791036601, -2.1601943831848622, -1.9965298663930509, -1.9601075411002231, -1.9257903092939452, -1.2162025535518697, -0.9792447541533096, -0.005583335122425977, 0.9972781968989818, 1.6669597252027317, 1.9275998631279587, 1.9423228829048944, 2.087891176211137, 2.3110795812723977]\n",
      "\n",
      "РЯДОК - [0.0061808160854160115, 0.1345619651670399, 0.37928644935692707, 0.694624698533522, 0.7361420570330348, 0.7363768179130443, 0.8563454917423534, 1.5468885718393692, 1.6425197193204348, 2.5424451304938542, 2.595995557342866, 2.6954188464472035, 3.2427431634658017, 3.3028532823358154, 4.027075006948067, 4.13449476751412, 4.973116090557461, 5.295177646460202, 8.00139534134648, 9.033241212446576]\n",
      "\n",
      "РЯДОК - [-9.547090866027808, -5.9860791927196155, -5.432983981655175, -4.490156841524463, -4.0742550047405945, -3.7610287439233487, -3.172209849206233, -2.621956705040379, -2.4360234109272776, -2.313620024412006, -1.775358316162817, -1.245508311437851, -1.1088284380558018, 1.047707260598322, 3.223446698133378, 4.725923207553483, 5.039527687946609, 5.292831913848861, 5.742006548121909, 5.881768674607182]\n",
      "\n",
      "РЯДОК - [0.06400228485547299, 0.19058909999412527, 0.9203353106620782, 0.9964888985080843, 1.127539526632286, 1.1421680191116328, 1.2769022217791246, 2.3191189727446586, 3.1871478467040486, 3.253050064708079, 3.542044255842323, 4.871978594189093, 5.066224018205714, 5.331363014074007, 6.138564364960681, 6.850371063506596, 7.526644414241521, 7.608393480518092, 9.653614585452841, 13.255620330818017]\n",
      "\n"
     ]
    }
   ],
   "source": [
    "data_var = [];\n",
    "for i in range(0,6):\n",
    "    if(i%2 == 0):\n",
    "        data_var.append(sorted(np.random.normal(0,(i+1),20)))\n",
    "    else:\n",
    "        data_var.append(sorted(np.random.exponential(i,20)))\n",
    "\n",
    "for i in data_var:\n",
    "    print(\"РЯДОК - \"+ str(i) + \"\\n\")"
   ]
  },
  {
   "cell_type": "markdown",
   "metadata": {},
   "source": [
    "<p style=\"color:#4ca8ed\">\n",
    "    <span style=\"margin-left:50px;font-size:150%\">\n",
    "        2.   Створіть функцію, що реалізує критерій Шапіро-Уілка та застосуйте її до кожної змінної набору данних.\n",
    "    </span>\n",
    "</p>"
   ]
  },
  {
   "cell_type": "code",
   "execution_count": 3,
   "metadata": {},
   "outputs": [],
   "source": [
    "def schapiro_uilk(array,n):\n",
    "    a = pd.read_excel(\"Coeficients for the W test for normality.xlsx\")[n]/10000\n",
    "    w_table = pd.read_excel(\"Рoints of the distribution of W.xlsx\")[ 'Unnamed: 1'][n]/1000\n",
    "\n",
    "    k = int(n/2 if (n%2==0) else (n-1)/2)\n",
    "    m = np.mean(array)\n",
    "    nm = 0\n",
    "    for i in array:\n",
    "        nm += (i-m)**2\n",
    "\n",
    "    b = 0\n",
    "    for i in range(k):\n",
    "        b += a[i]*(array[n-i-1] - array[i])\n",
    "    w = (b**2)/nm\n",
    "    \n",
    "    if(w > w_table):\n",
    "        #return ('%.3f'%w) +\" normal\"\n",
    "        return \"normal\"\n",
    "    else:\n",
    "        #return ('%.3f'%w) +\" non-normal\"\n",
    "        return \"non-normal\""
   ]
  },
  {
   "cell_type": "markdown",
   "metadata": {},
   "source": [
    "<p style=\"color:#4ca8ed\">\n",
    "    <span style=\"margin-left:50px;font-size:150%\">\n",
    "        3. Сгенеруйте пусту таблицю, в якій кількість рядків - це кількість змінних + 1. Кількість стовбчиків - 3. Назва стовпчиків - Variable, Statistics, Distribution.<br>\n",
    "        <span style = \"margin-left:25px;font-size:90%\">Variable - назви змінних.<br></span>\n",
    "        <span style = \"margin-left:25px;font-size:90%\">Distribution - результати роботи криетрію Шапіро-Уілка<br></span>\n",
    "         <span style = \"margin-left:25px;font-size:90%\">Для всіх змінних, що розподілені за нормальним законом - середне значення та стандартне відхилення<br></span>\n",
    "         <span style = \"margin-left:25px;font-size:90%\">Для всіх змінних, що розподілені за не нормальним законом - медіану та інтерквартильний розмах<br></span>\n",
    "    </span>\n",
    "</p>"
   ]
  },
  {
   "cell_type": "code",
   "execution_count": 4,
   "metadata": {},
   "outputs": [
    {
     "data": {
      "text/plain": [
       "(0.0, 1.0, 0.0, 1.0)"
      ]
     },
     "execution_count": 4,
     "metadata": {},
     "output_type": "execute_result"
    },
    {
     "data": {
      "image/png": "[encoded data removed]",
      "text/plain": [
       "<Figure size 500x500 with 1 Axes>"
      ]
     },
     "metadata": {
      "needs_background": "light"
     },
     "output_type": "display_data"
    }
   ],
   "source": [
    "#d = {'x{}'.format(i): range(20) for i in range(3)}\n",
    "table_st = pd.DataFrame({\n",
    "    'Variable': [(\"var\"+str(i)) for i in range(6)], \n",
    "    'Statistics':\n",
    "        ['%.2f[%.2f]' % (np.mean(data_var[i]),np.std(data_var[i]))\n",
    "             if (schapiro_uilk(data_var[i],20)==\"normal\") else \n",
    "         '%.2f[%.2f;%.2f]' % (np.median(data_var[i]), np.quantile(data_var[i],0.25),np.quantile(data_var[i],0.75)) \n",
    "         for i in range(6)]\n",
    "    , \n",
    "    'Distribution':[schapiro_uilk(data_var[i],20) for i in range(6)]\n",
    "})\n",
    "    \n",
    "fig = plt.figure(figsize=(2,2), dpi=250)\n",
    "ax=fig.add_subplot(111)\n",
    "cell_text = []\n",
    "for row in range(len(table_st)):\n",
    "    cell_text.append(table_st.iloc[row])\n",
    "\n",
    "ax.table(cellText=cell_text, colLabels=table_st.columns, loc='center')\n",
    "ax.axis('off')"
   ]
  },
  {
   "cell_type": "markdown",
   "metadata": {},
   "source": [
    "<p style=\"color:#4ca8ed\">\n",
    "    <span style=\"margin-left:50px;font-size:150%\">\n",
    "        4. Зберегти таблицю в пдф форматі \n",
    "    </span>\n",
    "</p>"
   ]
  },
  {
   "cell_type": "code",
   "execution_count": 5,
   "metadata": {},
   "outputs": [],
   "source": [
    "pdf = matplotlib.backends.backend_pdf.PdfPages(\"output.pdf\")\n",
    "pdf.savefig(fig)\n",
    "pdf.close()"
   ]
  }
 ],
 "metadata": {
  "kernelspec": {
   "display_name": "Python 3",
   "language": "python",
   "name": "python3"
  },
  "language_info": {
   "codemirror_mode": {
    "name": "ipython",
    "version": 3
   },
   "file_extension": ".py",
   "mimetype": "text/x-python",
   "name": "python",
   "nbconvert_exporter": "python",
   "pygments_lexer": "ipython3",
   "version": "3.7.4"
  }
 },
 "nbformat": 4,
 "nbformat_minor": 2
}
